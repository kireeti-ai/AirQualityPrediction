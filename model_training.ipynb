{
 "cells": [
  {
   "cell_type": "markdown",
   "metadata": {},
   "source": [
    "# MODEL TRAINING"
   ]
  },
  {
   "cell_type": "code",
   "execution_count": 118,
   "metadata": {
    "execution": {
     "iopub.execute_input": "2025-09-08T12:43:00.005607Z",
     "iopub.status.busy": "2025-09-08T12:43:00.005298Z",
     "iopub.status.idle": "2025-09-08T12:43:00.033282Z",
     "shell.execute_reply": "2025-09-08T12:43:00.032073Z",
     "shell.execute_reply.started": "2025-09-08T12:43:00.005586Z"
    },
    "trusted": true
   },
   "outputs": [
    {
     "data": {
      "text/html": [
       "<div>\n",
       "<style scoped>\n",
       "    .dataframe tbody tr th:only-of-type {\n",
       "        vertical-align: middle;\n",
       "    }\n",
       "\n",
       "    .dataframe tbody tr th {\n",
       "        vertical-align: top;\n",
       "    }\n",
       "\n",
       "    .dataframe thead th {\n",
       "        text-align: right;\n",
       "    }\n",
       "</style>\n",
       "<table border=\"1\" class=\"dataframe\">\n",
       "  <thead>\n",
       "    <tr style=\"text-align: right;\">\n",
       "      <th></th>\n",
       "      <th>PM2.5</th>\n",
       "      <th>PM10</th>\n",
       "      <th>NO</th>\n",
       "      <th>NO2</th>\n",
       "      <th>NOx</th>\n",
       "      <th>NH3</th>\n",
       "      <th>CO</th>\n",
       "      <th>SO2</th>\n",
       "      <th>O3</th>\n",
       "      <th>Benzene</th>\n",
       "      <th>Toluene</th>\n",
       "      <th>Xylene</th>\n",
       "      <th>AQI</th>\n",
       "      <th>Air_quality</th>\n",
       "    </tr>\n",
       "  </thead>\n",
       "  <tbody>\n",
       "    <tr>\n",
       "      <th>0</th>\n",
       "      <td>67.450578</td>\n",
       "      <td>118.127103</td>\n",
       "      <td>0.92</td>\n",
       "      <td>18.22</td>\n",
       "      <td>17.15</td>\n",
       "      <td>23.483476</td>\n",
       "      <td>0.92</td>\n",
       "      <td>27.64</td>\n",
       "      <td>133.36</td>\n",
       "      <td>0.00000</td>\n",
       "      <td>0.020000</td>\n",
       "      <td>0.000000</td>\n",
       "      <td>149.0</td>\n",
       "      <td>Moderate</td>\n",
       "    </tr>\n",
       "    <tr>\n",
       "      <th>1</th>\n",
       "      <td>67.450578</td>\n",
       "      <td>118.127103</td>\n",
       "      <td>0.97</td>\n",
       "      <td>15.69</td>\n",
       "      <td>16.46</td>\n",
       "      <td>23.483476</td>\n",
       "      <td>0.97</td>\n",
       "      <td>24.55</td>\n",
       "      <td>34.06</td>\n",
       "      <td>3.68000</td>\n",
       "      <td>5.500000</td>\n",
       "      <td>3.770000</td>\n",
       "      <td>123.0</td>\n",
       "      <td>Moderate</td>\n",
       "    </tr>\n",
       "    <tr>\n",
       "      <th>2</th>\n",
       "      <td>67.450578</td>\n",
       "      <td>118.127103</td>\n",
       "      <td>17.40</td>\n",
       "      <td>19.30</td>\n",
       "      <td>29.70</td>\n",
       "      <td>23.483476</td>\n",
       "      <td>17.40</td>\n",
       "      <td>29.07</td>\n",
       "      <td>30.70</td>\n",
       "      <td>6.80000</td>\n",
       "      <td>16.400000</td>\n",
       "      <td>2.250000</td>\n",
       "      <td>300.0</td>\n",
       "      <td>Poor</td>\n",
       "    </tr>\n",
       "    <tr>\n",
       "      <th>3</th>\n",
       "      <td>67.450578</td>\n",
       "      <td>118.127103</td>\n",
       "      <td>1.70</td>\n",
       "      <td>18.48</td>\n",
       "      <td>17.97</td>\n",
       "      <td>23.483476</td>\n",
       "      <td>1.70</td>\n",
       "      <td>18.59</td>\n",
       "      <td>36.08</td>\n",
       "      <td>4.43000</td>\n",
       "      <td>10.140000</td>\n",
       "      <td>1.000000</td>\n",
       "      <td>123.0</td>\n",
       "      <td>Moderate</td>\n",
       "    </tr>\n",
       "    <tr>\n",
       "      <th>4</th>\n",
       "      <td>67.450578</td>\n",
       "      <td>118.127103</td>\n",
       "      <td>22.10</td>\n",
       "      <td>21.42</td>\n",
       "      <td>37.76</td>\n",
       "      <td>23.483476</td>\n",
       "      <td>22.10</td>\n",
       "      <td>39.33</td>\n",
       "      <td>39.31</td>\n",
       "      <td>7.01000</td>\n",
       "      <td>18.890000</td>\n",
       "      <td>2.780000</td>\n",
       "      <td>329.0</td>\n",
       "      <td>Very Poor</td>\n",
       "    </tr>\n",
       "    <tr>\n",
       "      <th>...</th>\n",
       "      <td>...</td>\n",
       "      <td>...</td>\n",
       "      <td>...</td>\n",
       "      <td>...</td>\n",
       "      <td>...</td>\n",
       "      <td>...</td>\n",
       "      <td>...</td>\n",
       "      <td>...</td>\n",
       "      <td>...</td>\n",
       "      <td>...</td>\n",
       "      <td>...</td>\n",
       "      <td>...</td>\n",
       "      <td>...</td>\n",
       "      <td>...</td>\n",
       "    </tr>\n",
       "    <tr>\n",
       "      <th>29526</th>\n",
       "      <td>15.020000</td>\n",
       "      <td>50.940000</td>\n",
       "      <td>7.68</td>\n",
       "      <td>25.06</td>\n",
       "      <td>19.54</td>\n",
       "      <td>12.470000</td>\n",
       "      <td>0.47</td>\n",
       "      <td>8.55</td>\n",
       "      <td>23.30</td>\n",
       "      <td>2.24000</td>\n",
       "      <td>12.070000</td>\n",
       "      <td>0.730000</td>\n",
       "      <td>41.0</td>\n",
       "      <td>Good</td>\n",
       "    </tr>\n",
       "    <tr>\n",
       "      <th>29527</th>\n",
       "      <td>24.380000</td>\n",
       "      <td>74.090000</td>\n",
       "      <td>3.42</td>\n",
       "      <td>26.06</td>\n",
       "      <td>16.53</td>\n",
       "      <td>11.990000</td>\n",
       "      <td>0.52</td>\n",
       "      <td>12.72</td>\n",
       "      <td>30.14</td>\n",
       "      <td>0.74000</td>\n",
       "      <td>2.210000</td>\n",
       "      <td>0.380000</td>\n",
       "      <td>70.0</td>\n",
       "      <td>Satisfactory</td>\n",
       "    </tr>\n",
       "    <tr>\n",
       "      <th>29528</th>\n",
       "      <td>22.910000</td>\n",
       "      <td>65.730000</td>\n",
       "      <td>3.45</td>\n",
       "      <td>29.53</td>\n",
       "      <td>18.33</td>\n",
       "      <td>10.710000</td>\n",
       "      <td>0.48</td>\n",
       "      <td>8.42</td>\n",
       "      <td>30.96</td>\n",
       "      <td>0.01000</td>\n",
       "      <td>0.010000</td>\n",
       "      <td>0.000000</td>\n",
       "      <td>68.0</td>\n",
       "      <td>Satisfactory</td>\n",
       "    </tr>\n",
       "    <tr>\n",
       "      <th>29529</th>\n",
       "      <td>16.640000</td>\n",
       "      <td>49.970000</td>\n",
       "      <td>4.05</td>\n",
       "      <td>29.26</td>\n",
       "      <td>18.80</td>\n",
       "      <td>10.030000</td>\n",
       "      <td>0.52</td>\n",
       "      <td>9.84</td>\n",
       "      <td>28.30</td>\n",
       "      <td>0.00000</td>\n",
       "      <td>0.000000</td>\n",
       "      <td>0.000000</td>\n",
       "      <td>54.0</td>\n",
       "      <td>Satisfactory</td>\n",
       "    </tr>\n",
       "    <tr>\n",
       "      <th>29530</th>\n",
       "      <td>15.000000</td>\n",
       "      <td>66.000000</td>\n",
       "      <td>0.40</td>\n",
       "      <td>26.85</td>\n",
       "      <td>14.05</td>\n",
       "      <td>5.200000</td>\n",
       "      <td>0.59</td>\n",
       "      <td>2.10</td>\n",
       "      <td>17.05</td>\n",
       "      <td>3.28084</td>\n",
       "      <td>8.700972</td>\n",
       "      <td>3.070128</td>\n",
       "      <td>50.0</td>\n",
       "      <td>Good</td>\n",
       "    </tr>\n",
       "  </tbody>\n",
       "</table>\n",
       "<p>29531 rows × 14 columns</p>\n",
       "</div>"
      ],
      "text/plain": [
       "           PM2.5        PM10     NO    NO2    NOx        NH3     CO    SO2  \\\n",
       "0      67.450578  118.127103   0.92  18.22  17.15  23.483476   0.92  27.64   \n",
       "1      67.450578  118.127103   0.97  15.69  16.46  23.483476   0.97  24.55   \n",
       "2      67.450578  118.127103  17.40  19.30  29.70  23.483476  17.40  29.07   \n",
       "3      67.450578  118.127103   1.70  18.48  17.97  23.483476   1.70  18.59   \n",
       "4      67.450578  118.127103  22.10  21.42  37.76  23.483476  22.10  39.33   \n",
       "...          ...         ...    ...    ...    ...        ...    ...    ...   \n",
       "29526  15.020000   50.940000   7.68  25.06  19.54  12.470000   0.47   8.55   \n",
       "29527  24.380000   74.090000   3.42  26.06  16.53  11.990000   0.52  12.72   \n",
       "29528  22.910000   65.730000   3.45  29.53  18.33  10.710000   0.48   8.42   \n",
       "29529  16.640000   49.970000   4.05  29.26  18.80  10.030000   0.52   9.84   \n",
       "29530  15.000000   66.000000   0.40  26.85  14.05   5.200000   0.59   2.10   \n",
       "\n",
       "           O3  Benzene    Toluene    Xylene    AQI   Air_quality  \n",
       "0      133.36  0.00000   0.020000  0.000000  149.0      Moderate  \n",
       "1       34.06  3.68000   5.500000  3.770000  123.0      Moderate  \n",
       "2       30.70  6.80000  16.400000  2.250000  300.0          Poor  \n",
       "3       36.08  4.43000  10.140000  1.000000  123.0      Moderate  \n",
       "4       39.31  7.01000  18.890000  2.780000  329.0     Very Poor  \n",
       "...       ...      ...        ...       ...    ...           ...  \n",
       "29526   23.30  2.24000  12.070000  0.730000   41.0          Good  \n",
       "29527   30.14  0.74000   2.210000  0.380000   70.0  Satisfactory  \n",
       "29528   30.96  0.01000   0.010000  0.000000   68.0  Satisfactory  \n",
       "29529   28.30  0.00000   0.000000  0.000000   54.0  Satisfactory  \n",
       "29530   17.05  3.28084   8.700972  3.070128   50.0          Good  \n",
       "\n",
       "[29531 rows x 14 columns]"
      ]
     },
     "execution_count": 118,
     "metadata": {},
     "output_type": "execute_result"
    }
   ],
   "source": [
    "df = df.drop(columns = ['Date', 'Month', 'Year', 'City'], axis=1)\n",
    "df"
   ]
  },
  {
   "cell_type": "markdown",
   "metadata": {},
   "source": [
    "## Train-Test Split:"
   ]
  },
  {
   "cell_type": "code",
   "execution_count": 119,
   "metadata": {
    "execution": {
     "iopub.execute_input": "2025-09-08T12:43:00.034474Z",
     "iopub.status.busy": "2025-09-08T12:43:00.034244Z",
     "iopub.status.idle": "2025-09-08T12:43:00.049666Z",
     "shell.execute_reply": "2025-09-08T12:43:00.048634Z",
     "shell.execute_reply.started": "2025-09-08T12:43:00.034457Z"
    },
    "trusted": true
   },
   "outputs": [
    {
     "name": "stdout",
     "output_type": "stream",
     "text": [
      "(22148, 12) (7383, 12) (22148,) (7383,)\n"
     ]
    }
   ],
   "source": [
    "y = df[\"AQI\"]\n",
    "x = df[['PM2.5', 'PM10', 'NO', 'NO2', 'NOx', 'NH3', 'CO', 'SO2','O3', 'Benzene', 'Toluene', 'Xylene']]\n",
    "\n",
    "x_train,x_test,y_train,y_test = train_test_split(x,y,test_size=0.25,random_state=0)\n",
    "print(x_train.shape,x_test.shape,y_train.shape,y_test.shape)"
   ]
  },
  {
   "cell_type": "markdown",
   "metadata": {},
   "source": [
    "# Supervised Learning:"
   ]
  },
  {
   "cell_type": "code",
   "execution_count": 120,
   "metadata": {
    "execution": {
     "iopub.execute_input": "2025-09-08T12:43:00.051268Z",
     "iopub.status.busy": "2025-09-08T12:43:00.050862Z",
     "iopub.status.idle": "2025-09-08T12:43:00.068259Z",
     "shell.execute_reply": "2025-09-08T12:43:00.067237Z",
     "shell.execute_reply.started": "2025-09-08T12:43:00.051240Z"
    },
    "trusted": true
   },
   "outputs": [],
   "source": [
    "\n",
    "from sklearn.linear_model import LinearRegression\n",
    "from sklearn.preprocessing import PolynomialFeatures\n",
    "from sklearn.tree import DecisionTreeRegressor\n",
    "from sklearn.ensemble import RandomForestRegressor\n"
   ]
  },
  {
   "cell_type": "code",
   "execution_count": 121,
   "metadata": {
    "execution": {
     "iopub.execute_input": "2025-09-08T12:43:00.069804Z",
     "iopub.status.busy": "2025-09-08T12:43:00.069477Z",
     "iopub.status.idle": "2025-09-08T12:43:00.108457Z",
     "shell.execute_reply": "2025-09-08T12:43:00.107693Z",
     "shell.execute_reply.started": "2025-09-08T12:43:00.069773Z"
    },
    "trusted": true
   },
   "outputs": [],
   "source": [
    "mreg = LinearRegression()\n",
    "mreg.fit(x_train,y_train)\n",
    "mlr_y_predict = mreg.predict(x_test)"
   ]
  },
  {
   "cell_type": "code",
   "execution_count": 122,
   "metadata": {
    "execution": {
     "iopub.execute_input": "2025-09-08T12:43:00.109914Z",
     "iopub.status.busy": "2025-09-08T12:43:00.109131Z",
     "iopub.status.idle": "2025-09-08T12:43:00.312815Z",
     "shell.execute_reply": "2025-09-08T12:43:00.312134Z",
     "shell.execute_reply.started": "2025-09-08T12:43:00.109882Z"
    },
    "trusted": true
   },
   "outputs": [],
   "source": [
    "poly_reg = PolynomialFeatures(degree = 2)\n",
    "preg = LinearRegression()\n",
    "pf = poly_reg.fit_transform(x_train)\n",
    "preg.fit(pf,y_train)\n",
    "pr_y_predict = preg.predict(poly_reg.fit_transform(x_test))"
   ]
  },
  {
   "cell_type": "code",
   "execution_count": 123,
   "metadata": {
    "execution": {
     "iopub.execute_input": "2025-09-08T12:43:00.313771Z",
     "iopub.status.busy": "2025-09-08T12:43:00.313486Z",
     "iopub.status.idle": "2025-09-08T12:43:00.763279Z",
     "shell.execute_reply": "2025-09-08T12:43:00.762153Z",
     "shell.execute_reply.started": "2025-09-08T12:43:00.313730Z"
    },
    "trusted": true
   },
   "outputs": [],
   "source": [
    "dec_tree = DecisionTreeRegressor(random_state = 0)\n",
    "dec_tree.fit(x_train,y_train)\n",
    "dt_y_predict = dec_tree.predict(x_test)"
   ]
  },
  {
   "cell_type": "code",
   "execution_count": 124,
   "metadata": {
    "execution": {
     "iopub.execute_input": "2025-09-08T12:43:00.764401Z",
     "iopub.status.busy": "2025-09-08T12:43:00.764056Z",
     "iopub.status.idle": "2025-09-08T12:45:17.766608Z",
     "shell.execute_reply": "2025-09-08T12:45:17.765310Z",
     "shell.execute_reply.started": "2025-09-08T12:43:00.764372Z"
    },
    "trusted": true
   },
   "outputs": [],
   "source": [
    "rt_reg = RandomForestRegressor(n_estimators = 500, random_state = 0)\n",
    "rt_reg.fit(x_train,y_train)\n",
    "rt_y_predict = rt_reg.predict(x_test)"
   ]
  },
  {
   "cell_type": "code",
   "execution_count": 125,
   "metadata": {
    "execution": {
     "iopub.execute_input": "2025-09-08T12:45:17.768860Z",
     "iopub.status.busy": "2025-09-08T12:45:17.767918Z",
     "iopub.status.idle": "2025-09-08T12:45:28.375970Z",
     "shell.execute_reply": "2025-09-08T12:45:28.375052Z",
     "shell.execute_reply.started": "2025-09-08T12:45:17.768825Z"
    },
    "trusted": true
   },
   "outputs": [
    {
     "name": "stdout",
     "output_type": "stream",
     "text": [
      "Evaluating on Training Data:\n",
      "Models                   \tR^2\tRMSE\tMAE\n",
      "Multiple Linear Regresion\t0.8417\t52.6762\t29.9116\n",
      "Polynomial Regression    \t0.88\t46.18\t26.996\n",
      "Decision Tree Regression \t0.9996\t2.5349\t0.1274\n",
      "Random Forest Regression \t0.9860\t15.6392\t6.9710\n",
      "\n",
      "\n",
      "Evaluating on Testing Data:\n",
      "Models                   \tR^2\tRMSE\tMAE\n",
      "Multiple Linear Regresion\t0.8359\t53.5959\t30.7147\n",
      "Polynomial Regression    \t0.86\t49.11\t27.993\n",
      "Decision Tree Regression \t0.8192\t56.2576\t26.1283\n",
      "Random Forest Regression \t0.9045\t40.8925\t18.5250\n"
     ]
    }
   ],
   "source": [
    "# Multiple Linear Regresion \n",
    "rmse_mlr = sqrt(metrics.mean_squared_error(y_test, mlr_y_predict))\n",
    "mae_mlr = metrics.mean_absolute_error(y_test, mlr_y_predict)\n",
    "r2_mlr = metrics.r2_score(y_test,mlr_y_predict)\n",
    "\n",
    "#Polynomial Regression\n",
    "rmse_pr = sqrt(metrics.mean_squared_error(y_test, pr_y_predict))\n",
    "mae_pr = metrics.mean_absolute_error(y_test, pr_y_predict)\n",
    "r2_pr = metrics.r2_score(y_test,pr_y_predict)\n",
    "\n",
    "#Decision Tree Regression \n",
    "rmse_dt = sqrt(metrics.mean_squared_error(y_test, dt_y_predict))\n",
    "mae_dt = metrics.mean_absolute_error(y_test, dt_y_predict)\n",
    "r2_dt = metrics.r2_score(y_test,dt_y_predict)\n",
    "\n",
    "#Random Forest Regression\n",
    "rmse_rt = sqrt(metrics.mean_squared_error(y_test, rt_y_predict))\n",
    "mae_rt = metrics.mean_absolute_error(y_test, rt_y_predict)\n",
    "r2_rt = metrics.r2_score(y_test,rt_y_predict)\n",
    "\n",
    "#multiple linear regresion \n",
    "mlr_ytp_rmse = sqrt(metrics.mean_squared_error(y_train, mreg.predict(x_train)))\n",
    "mlr_ytp_mae = metrics.mean_absolute_error(y_train, mreg.predict(x_train))\n",
    "mlr_ytp_r2 = metrics.r2_score(y_train, mreg.predict(x_train))\n",
    "\n",
    "# polynomial regression\n",
    "pr_ytp_rmse = sqrt(metrics.mean_squared_error(y_train, preg.predict(poly_reg.fit_transform(x_train))))\n",
    "pr_ytp_mae = metrics.mean_absolute_error(y_train, preg.predict(poly_reg.fit_transform(x_train)))\n",
    "pr_ytp_r2 = metrics.r2_score(y_train, preg.predict(poly_reg.fit_transform(x_train)))\n",
    "# decision tree regression\n",
    "dt_ytp_rmse = sqrt(metrics.mean_squared_error(y_train, dec_tree.predict(x_train)))\n",
    "dt_ytp_mae = metrics.mean_absolute_error(y_train, dec_tree.predict(x_train))\n",
    "dt_ytp_r2 = metrics.r2_score(y_train, dec_tree.predict(x_train))\n",
    "# random forest regression \n",
    "rf_ytp_rmse = sqrt(metrics.mean_squared_error(y_train, rt_reg.predict(x_train)))\n",
    "rf_ytp_mae = metrics.mean_absolute_error(y_train, rt_reg.predict(x_train))\n",
    "rf_ytp_r2 = metrics.r2_score(y_train, rt_reg.predict(x_train))\n",
    "print(\"Evaluating on Training Data:\")\n",
    "print(\"Models                   \\tR^2\\tRMSE\\tMAE\")\n",
    "print(\"Multiple Linear Regresion\\t{0:.4f}\\t{1:.4f}\\t{2:.4f}\".format(mlr_ytp_r2,mlr_ytp_rmse,mlr_ytp_mae))\n",
    "print(\"Polynomial Regression    \\t{0:.2f}\\t{1:.2f}\\t{2:.3f}\".format(pr_ytp_r2,pr_ytp_rmse,pr_ytp_mae))\n",
    "print(\"Decision Tree Regression \\t{0:.4f}\\t{1:.4f}\\t{2:.4f}\".format(dt_ytp_r2,dt_ytp_rmse,dt_ytp_mae))\n",
    "print(\"Random Forest Regression \\t{0:.4f}\\t{1:.4f}\\t{2:.4f}\".format(rf_ytp_r2,rf_ytp_rmse,rf_ytp_mae))\n",
    "print(\"\\n\")\n",
    "print(\"Evaluating on Testing Data:\")\n",
    "print(\"Models                   \\tR^2\\tRMSE\\tMAE\")\n",
    "print(\"Multiple Linear Regresion\\t{0:.4f}\\t{1:.4f}\\t{2:.4f}\".format(r2_mlr,rmse_mlr,mae_mlr))\n",
    "print(\"Polynomial Regression    \\t{0:.2f}\\t{1:.2f}\\t{2:.3f}\".format(r2_pr,rmse_pr,mae_pr))\n",
    "print(\"Decision Tree Regression \\t{0:.4f}\\t{1:.4f}\\t{2:.4f}\".format(r2_dt,rmse_dt,mae_dt))\n",
    "print(\"Random Forest Regression \\t{0:.4f}\\t{1:.4f}\\t{2:.4f}\".format(r2_rt,rmse_rt,mae_rt))"
   ]
  },
  {
   "cell_type": "code",
   "execution_count": 126,
   "metadata": {
    "execution": {
     "iopub.execute_input": "2025-09-08T12:45:28.377265Z",
     "iopub.status.busy": "2025-09-08T12:45:28.376978Z",
     "iopub.status.idle": "2025-09-08T12:45:28.421976Z",
     "shell.execute_reply": "2025-09-08T12:45:28.420849Z",
     "shell.execute_reply.started": "2025-09-08T12:45:28.377243Z"
    },
    "trusted": true
   },
   "outputs": [
    {
     "name": "stdout",
     "output_type": "stream",
     "text": [
      "Multiple Linear Regression Prediction:\n",
      "AQI: [74.03981208]\n",
      "AQI Quality: Satisfactory\n",
      "\n",
      "Polynomial Regression Prediction:\n",
      "AQI: [75.08835171]\n",
      "AQI Quality: Satisfactory\n",
      "\n",
      "Decision Tree Regression Prediction:\n",
      "AQI: [51.]\n",
      "AQI Quality: Satisfactory\n",
      "\n",
      "Random Forest Regression Prediction:\n",
      "AQI: [77.038]\n",
      "AQI Quality: Satisfactory\n"
     ]
    }
   ],
   "source": [
    "\n",
    "sample_input = pd.DataFrame([[26, 50, 1, 19, 18, 23, 1, 3, 42, 2, 6, 1]],\n",
    "                            columns=['PM2.5', 'PM10', 'NO', 'NO2', 'NOx', 'NH3', 'CO', 'SO2', 'O3', 'Benzene', 'Toluene', 'Xylene'])\n",
    "mlr_prediction = mreg.predict(sample_input)\n",
    "pr_prediction = preg.predict(poly_reg.transform(sample_input))\n",
    "dt_prediction = dec_tree.predict(sample_input)\n",
    "rt_prediction = rt_reg.predict(sample_input)\n",
    "aqi_quality_labels = ['Good', 'Satisfactory', 'Moderate', 'Poor', 'Very Poor']\n",
    "def get_aqi_quality(aqi):\n",
    "    if aqi <= 50:\n",
    "        return aqi_quality_labels[0]\n",
    "    elif aqi <= 100:\n",
    "        return aqi_quality_labels[1]\n",
    "    elif aqi <= 200:\n",
    "        return aqi_quality_labels[2]\n",
    "    elif aqi <= 300:\n",
    "        return aqi_quality_labels[3]\n",
    "    else:\n",
    "        return aqi_quality_labels[4]\n",
    "\n",
    "# Get AQI quality for each prediction\n",
    "mlr_aqi_quality = get_aqi_quality(mlr_prediction)\n",
    "pr_aqi_quality = get_aqi_quality(pr_prediction)\n",
    "dt_aqi_quality = get_aqi_quality(dt_prediction)\n",
    "rt_aqi_quality = get_aqi_quality(rt_prediction)\n",
    "\n",
    "# Print the predicted AQI and AQI quality\n",
    "print(\"Multiple Linear Regression Prediction:\")\n",
    "print(\"AQI:\", mlr_prediction)\n",
    "print(\"AQI Quality:\", mlr_aqi_quality)\n",
    "print()\n",
    "print(\"Polynomial Regression Prediction:\")\n",
    "print(\"AQI:\", pr_prediction)\n",
    "print(\"AQI Quality:\", pr_aqi_quality)\n",
    "print()\n",
    "print(\"Decision Tree Regression Prediction:\")\n",
    "print(\"AQI:\", dt_prediction)\n",
    "print(\"AQI Quality:\", dt_aqi_quality)\n",
    "print()\n",
    "print(\"Random Forest Regression Prediction:\")\n",
    "print(\"AQI:\", rt_prediction)\n",
    "print(\"AQI Quality:\", rt_aqi_quality)\n"
   ]
  }
 ],
 "metadata": {
  "kaggle": {
   "accelerator": "none",
   "dataSources": [
    {
     "datasetId": 630055,
     "sourceId": 1377609,
     "sourceType": "datasetVersion"
    }
   ],
   "dockerImageVersionId": 31089,
   "isGpuEnabled": false,
   "isInternetEnabled": true,
   "language": "python",
   "sourceType": "notebook"
  },
  "kernelspec": {
   "display_name": "Python 3",
   "language": "python",
   "name": "python3"
  },
  "language_info": {
   "codemirror_mode": {
    "name": "ipython",
    "version": 3
   },
   "file_extension": ".py",
   "mimetype": "text/x-python",
   "name": "python",
   "nbconvert_exporter": "python",
   "pygments_lexer": "ipython3",
   "version": "3.11.13"
  }
 },
 "nbformat": 4,
 "nbformat_minor": 4
}
