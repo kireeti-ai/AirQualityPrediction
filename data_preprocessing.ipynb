import pandas as pd
import numpy as np

print("Percentage of null values BEFORE cleaning:")
print((df.isnull().sum() / df.shape[0] * 100).sort_values(ascending=False))
for col in df.columns:
    if df[col].dtype == 'float64' or df[col].dtype == 'int64':
        df[col] = df[col].fillna(df[col].median())
print("\nNull values AFTER imputation:")
print(df.isnull().sum())
cols_to_drop = ['Date', 'City', 'AQI_Bucket']
df.drop(columns=cols_to_drop, axis=1, inplace=True, errors='ignore')
print(f"\nDropped columns: {cols_to_drop}")
print("DataFrame shape after dropping columns:", df.shape)
print("\nHandling outliers...")
for col in df.select_dtypes(include=np.number).columns:
    Q1 = df[col].quantile(0.25)
    Q3 = df[col].quantile(0.75)
    IQR = Q3 - Q1
    lower_bound = Q1 - 1.5 * IQR
    upper_bound = Q3 + 1.5 * IQR
    df[col] = np.where(df[col] > upper_bound, upper_bound, df[col])
    df[col] = np.where(df[col] < lower_bound, lower_bound, df[col])
print("Outliers have been capped using the IQR method.")
print("\nDataFrame head after preprocessing:")
print(df.head())
print("\nFinal DataFrame Info:")
df.info()
