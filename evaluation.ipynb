{
 "cells": [
  {
   "cell_type": "code",
   "execution_count": 128,
   "metadata": {
    "execution": {
     "iopub.execute_input": "2025-09-08T12:50:47.768370Z",
     "iopub.status.busy": "2025-09-08T12:50:47.768076Z",
     "iopub.status.idle": "2025-09-08T12:53:15.190819Z",
     "shell.execute_reply": "2025-09-08T12:53:15.189946Z",
     "shell.execute_reply.started": "2025-09-08T12:50:47.768347Z"
    },
    "trusted": true
   },
   "outputs": [
    {
     "name": "stdout",
     "output_type": "stream",
     "text": [
      "Evaluating on Training Data:\n",
      "Models                   \tR^2\tRMSE\tMAE\n",
      "Random Forest Regression \t0.9860\t15.6392\t6.9710\n",
      "\n",
      "\n",
      "Evaluating on Testing Data:\n",
      "Models                   \tR^2\tRMSE\tMAE\n",
      "Random Forest Regression \t0.9045\t40.8925\t18.5250\n"
     ]
    }
   ],
   "source": [
    "\n",
    "Best_Model_RF = RandomForestRegressor(n_estimators = 500, random_state = 0)\n",
    "Best_Model_RF.fit(x_train,y_train)\n",
    "Best_Model_RF_predict = Best_Model_RF.predict(x_test)\n",
    "rmse_r = sqrt(metrics.mean_squared_error(y_test, Best_Model_RF_predict))\n",
    "mae_r = metrics.mean_absolute_error(y_test, Best_Model_RF_predict)\n",
    "r2_r = metrics.r2_score(y_test,Best_Model_RF_predict)\n",
    "rf_ytp_rms = sqrt(metrics.mean_squared_error(y_train, Best_Model_RF.predict(x_train)))\n",
    "rf_ytp_ma = metrics.mean_absolute_error(y_train, Best_Model_RF.predict(x_train))\n",
    "rf_ytp_r = metrics.r2_score(y_train, Best_Model_RF.predict(x_train))\n",
    "\n",
    "print(\"Evaluating on Training Data:\")\n",
    "print(\"Models                   \\tR^2\\tRMSE\\tMAE\")\n",
    "print(\"Random Forest Regression \\t{0:.4f}\\t{1:.4f}\\t{2:.4f}\".format(rf_ytp_r,rf_ytp_rms,rf_ytp_ma))\n",
    "print(\"\\n\")\n",
    "print(\"Evaluating on Testing Data:\")\n",
    "print(\"Models                   \\tR^2\\tRMSE\\tMAE\")\n",
    "print(\"Random Forest Regression \\t{0:.4f}\\t{1:.4f}\\t{2:.4f}\".format(r2_r,rmse_r,mae_r))"
   ]
  },
  {
   "cell_type": "markdown",
   "metadata": {},
   "source": []
  },
  {
   "cell_type": "markdown",
   "metadata": {},
   "source": []
  }
 ],
 "metadata": {
  "kaggle": {
   "accelerator": "none",
   "dataSources": [
    {
     "datasetId": 630055,
     "sourceId": 1377609,
     "sourceType": "datasetVersion"
    }
   ],
   "dockerImageVersionId": 31089,
   "isGpuEnabled": false,
   "isInternetEnabled": true,
   "language": "python",
   "sourceType": "notebook"
  },
  "kernelspec": {
   "display_name": "Python 3",
   "language": "python",
   "name": "python3"
  },
  "language_info": {
   "codemirror_mode": {
    "name": "ipython",
    "version": 3
   },
   "file_extension": ".py",
   "mimetype": "text/x-python",
   "name": "python",
   "nbconvert_exporter": "python",
   "pygments_lexer": "ipython3",
   "version": "3.11.13"
  }
 },
 "nbformat": 4,
 "nbformat_minor": 4
}
